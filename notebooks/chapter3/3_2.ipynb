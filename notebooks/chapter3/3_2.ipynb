{
  "nbformat": 4,
  "nbformat_minor": 0,
  "metadata": {
    "colab": {
      "name": "3_2.ipynb",
      "provenance": [],
      "authorship_tag": "ABX9TyOy2dR148PupKJYjftzmUue",
      "include_colab_link": true
    },
    "kernelspec": {
      "name": "python3",
      "display_name": "Python 3"
    }
  },
  "cells": [
    {
      "cell_type": "markdown",
      "metadata": {
        "id": "view-in-github",
        "colab_type": "text"
      },
      "source": [
        "<a href=\"https://colab.research.google.com/github/junichi-tanaka/learn-math-python/blob/master/notebooks/chapter3/3_2.ipynb\" target=\"_parent\"><img src=\"https://colab.research.google.com/assets/colab-badge.svg\" alt=\"Open In Colab\"/></a>"
      ]
    },
    {
      "cell_type": "code",
      "metadata": {
        "id": "yUGkmmWm-dZ3",
        "colab_type": "code",
        "colab": {
          "base_uri": "https://localhost:8080/",
          "height": 265
        },
        "outputId": "73fc1906-aeea-4bf0-98c1-45f7ec5f99ee"
      },
      "source": [
        "%matplotlib inline\n",
        "import matplotlib.pyplot as plt\n",
        "\n",
        "# データ\n",
        "x = list(range(1,11))\n",
        "y = []\n",
        "for i in range(10):\n",
        "  y.append(3 * x[i] - 24)   # y = 3x - 24\n",
        "\n",
        "# グラフを描画\n",
        "plt.plot(x, y)\n",
        "plt.grid(color='0.8')\n",
        "plt.show()"
      ],
      "execution_count": 1,
      "outputs": [
        {
          "output_type": "display_data",
          "data": {
            "image/png": "[encoded data removed]",
            "text/plain": [
              "<Figure size 432x288 with 1 Axes>"
            ]
          },
          "metadata": {
            "tags": []
          }
        }
      ]
    }
  ]
}