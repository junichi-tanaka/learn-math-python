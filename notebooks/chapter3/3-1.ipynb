%matplotlib inline
import matplotlib.pyplot as plt

# データ
x = [1, 2, 3, 4, 5, 6, 7]
y = [64.3, 63.8, 64.0, 63.5, 63.2, 63.1]

# グラフを描画
plt.plot(x, y)
plt.grid(color='0.8')
plt.show()
