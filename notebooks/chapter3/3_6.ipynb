{
  "nbformat": 4,
  "nbformat_minor": 0,
  "metadata": {
    "colab": {
      "name": "3_6.ipynb",
      "provenance": [],
      "authorship_tag": "ABX9TyOa8N28stJnQNoZYUIa5ITy",
      "include_colab_link": true
    },
    "kernelspec": {
      "name": "python3",
      "display_name": "Python 3"
    }
  },
  "cells": [
    {
      "cell_type": "markdown",
      "metadata": {
        "id": "view-in-github",
        "colab_type": "text"
      },
      "source": [
        "<a href=\"https://colab.research.google.com/github/junichi-tanaka/learn-math-python/blob/master/notebooks/chapter3/3_6.ipynb\" target=\"_parent\"><img src=\"https://colab.research.google.com/assets/colab-badge.svg\" alt=\"Open In Colab\"/></a>"
      ]
    },
    {
      "cell_type": "code",
      "metadata": {
        "id": "EVRLgonwWXAg",
        "colab_type": "code",
        "colab": {
          "base_uri": "https://localhost:8080/",
          "height": 265
        },
        "outputId": "d704ed15-88a5-488c-af49-6e17cf8174b8"
      },
      "source": [
        "%matplotlib inline\n",
        "import matplotlib.pyplot as plt\n",
        "import numpy as np\n",
        "\n",
        "# 基となる線分の傾きと切片　\n",
        "a1 = (5 - 1) / (6 - 1)\n",
        "b1 = 1\n",
        "\n",
        "# 線分の中点　\n",
        "cx = (0 + 6) / 2\n",
        "cy = (0 + 5) / 2\n",
        "\n",
        "# 線分に直交する直線の傾き(a2 = -1 / a1)\n",
        "a2 = -1 / a1\n",
        "\n",
        "# 線分に直交する直線の切片(b2 = y - a2 * x)\n",
        "b2 = cy - a2 * cx\n",
        "\n",
        "# 直線の式\n",
        "x = np.arange(0, 7) # x の値\n",
        "y1 = a1 * x + b1  # もとの直線\n",
        "y2 = a2 * x + b2  # 垂直二等分線\n",
        "\n",
        "# 描画\n",
        "plt.plot(x, y1)\n",
        "plt.plot(x, y2)\n",
        "plt.axis('equal')\n",
        "plt.grid(color='0.8')\n",
        "plt.show()"
      ],
      "execution_count": 1,
      "outputs": [
        {
          "output_type": "display_data",
          "data": {
            "image/png": "[encoded data removed]",
            "text/plain": [
              "<Figure size 432x288 with 1 Axes>"
            ]
          },
          "metadata": {
            "tags": []
          }
        }
      ]
    }
  ]
}