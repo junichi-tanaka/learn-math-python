{
  "nbformat": 4,
  "nbformat_minor": 0,
  "metadata": {
    "colab": {
      "name": "3_4.ipynb",
      "provenance": [],
      "authorship_tag": "ABX9TyP6QnvJbHsPej1170AOvpN+",
      "include_colab_link": true
    },
    "kernelspec": {
      "name": "python3",
      "display_name": "Python 3"
    }
  },
  "cells": [
    {
      "cell_type": "markdown",
      "metadata": {
        "id": "view-in-github",
        "colab_type": "text"
      },
      "source": [
        "<a href=\"https://colab.research.google.com/github/junichi-tanaka/learn-math-python/blob/master/notebooks/chapter3/3_4.ipynb\" target=\"_parent\"><img src=\"https://colab.research.google.com/assets/colab-badge.svg\" alt=\"Open In Colab\"/></a>"
      ]
    },
    {
      "cell_type": "code",
      "metadata": {
        "id": "1OMIcf-lAYm5",
        "colab_type": "code",
        "colab": {
          "base_uri": "https://localhost:8080/",
          "height": 35
        },
        "outputId": "efc4345f-8b49-465b-958d-4987b4df297a"
      },
      "source": [
        "from sympy import Symbol, solve\n",
        "\n",
        "# 式を定義\n",
        "a = Symbol('a')\n",
        "b = Symbol('b')\n",
        "\n",
        "ex1 = a + b - 1\n",
        "ex2 = 5 * a + b - 3\n",
        "\n",
        "# 連立方程式を解く\n",
        "print(solve((ex1, ex2)))"
      ],
      "execution_count": 3,
      "outputs": [
        {
          "output_type": "stream",
          "text": [
            "{a: 1/2, b: 1/2}\n"
          ],
          "name": "stdout"
        }
      ]
    }
  ]
}